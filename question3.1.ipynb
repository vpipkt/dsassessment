{
 "cells": [
  {
   "cell_type": "markdown",
   "metadata": {},
   "source": [
    "# Question 3 (part 1): Traditional NLP Models\n",
    "\n",
    "\n",
    "## Import data & summarize"
   ]
  },
  {
   "cell_type": "code",
   "execution_count": 1,
   "metadata": {},
   "outputs": [],
   "source": [
    "import pandas\n",
    "import sklearn.model_selection\n",
    "import sklearn.feature_extraction\n",
    "import sklearn.feature_selection\n",
    "import sklearn.preprocessing\n",
    "import sklearn.linear_model\n",
    "import sklearn.metrics\n",
    "import numpy as np\n",
    "\n",
    "import os\n",
    "import re\n",
    "import requests"
   ]
  },
  {
   "cell_type": "code",
   "execution_count": 2,
   "metadata": {},
   "outputs": [],
   "source": [
    "with open('Data/classification/classification.txt', 'rt') as f:\n",
    "    lines = f.readlines()"
   ]
  },
  {
   "cell_type": "code",
   "execution_count": 3,
   "metadata": {},
   "outputs": [
    {
     "data": {
      "text/plain": [
       "['The battery is completely useless to me.\\t0\\n',\n",
       " 'What a big waste of time.\\t0\\n',\n",
       " \"Don't waste your $$$ on this one.\\t0\\n\",\n",
       " 'Great sound and service.\\t1\\n',\n",
       " 'Really pleased with this product so far.\\t1\\n',\n",
       " 'One of my favorite purchases ever.\\t1\\n',\n",
       " 'best bluetooth on the market.\\t1\\n',\n",
       " 'Authentic leather with nice shine and comfort .I recommend you this case !!\\t1\\n',\n",
       " 'I was very excited to get this headset because I thought it was really cute.\\t1\\n',\n",
       " 'Do not make the same mistake as me.\\t0\\n']"
      ]
     },
     "execution_count": 3,
     "metadata": {},
     "output_type": "execute_result"
    }
   ],
   "source": [
    "lines[:10]"
   ]
  },
  {
   "cell_type": "code",
   "execution_count": 4,
   "metadata": {},
   "outputs": [],
   "source": [
    "xys = [l.split('\\t') for l in lines]\n",
    "xys = [(x, int(y.strip())) for x, y in xys]"
   ]
  },
  {
   "cell_type": "code",
   "execution_count": 5,
   "metadata": {},
   "outputs": [
    {
     "data": {
      "text/plain": [
       "[('The battery is completely useless to me.', 0),\n",
       " ('What a big waste of time.', 0),\n",
       " (\"Don't waste your $$$ on this one.\", 0),\n",
       " ('Great sound and service.', 1),\n",
       " ('Really pleased with this product so far.', 1),\n",
       " ('One of my favorite purchases ever.', 1),\n",
       " ('best bluetooth on the market.', 1),\n",
       " ('Authentic leather with nice shine and comfort .I recommend you this case !!',\n",
       "  1),\n",
       " ('I was very excited to get this headset because I thought it was really cute.',\n",
       "  1),\n",
       " ('Do not make the same mistake as me.', 0)]"
      ]
     },
     "execution_count": 5,
     "metadata": {},
     "output_type": "execute_result"
    }
   ],
   "source": [
    "xys[:10]"
   ]
  },
  {
   "cell_type": "code",
   "execution_count": 6,
   "metadata": {},
   "outputs": [],
   "source": [
    "import pandas\n",
    "df = pandas.DataFrame(xys, columns=['content', 'label'])"
   ]
  },
  {
   "cell_type": "code",
   "execution_count": 7,
   "metadata": {},
   "outputs": [
    {
     "data": {
      "text/html": [
       "<div>\n",
       "<style scoped>\n",
       "    .dataframe tbody tr th:only-of-type {\n",
       "        vertical-align: middle;\n",
       "    }\n",
       "\n",
       "    .dataframe tbody tr th {\n",
       "        vertical-align: top;\n",
       "    }\n",
       "\n",
       "    .dataframe thead th {\n",
       "        text-align: right;\n",
       "    }\n",
       "</style>\n",
       "<table border=\"1\" class=\"dataframe\">\n",
       "  <thead>\n",
       "    <tr style=\"text-align: right;\">\n",
       "      <th></th>\n",
       "      <th>label</th>\n",
       "    </tr>\n",
       "  </thead>\n",
       "  <tbody>\n",
       "    <tr>\n",
       "      <th>count</th>\n",
       "      <td>1000.00000</td>\n",
       "    </tr>\n",
       "    <tr>\n",
       "      <th>mean</th>\n",
       "      <td>0.50000</td>\n",
       "    </tr>\n",
       "    <tr>\n",
       "      <th>std</th>\n",
       "      <td>0.50025</td>\n",
       "    </tr>\n",
       "    <tr>\n",
       "      <th>min</th>\n",
       "      <td>0.00000</td>\n",
       "    </tr>\n",
       "    <tr>\n",
       "      <th>25%</th>\n",
       "      <td>0.00000</td>\n",
       "    </tr>\n",
       "    <tr>\n",
       "      <th>50%</th>\n",
       "      <td>0.50000</td>\n",
       "    </tr>\n",
       "    <tr>\n",
       "      <th>75%</th>\n",
       "      <td>1.00000</td>\n",
       "    </tr>\n",
       "    <tr>\n",
       "      <th>max</th>\n",
       "      <td>1.00000</td>\n",
       "    </tr>\n",
       "  </tbody>\n",
       "</table>\n",
       "</div>"
      ],
      "text/plain": [
       "            label\n",
       "count  1000.00000\n",
       "mean      0.50000\n",
       "std       0.50025\n",
       "min       0.00000\n",
       "25%       0.00000\n",
       "50%       0.50000\n",
       "75%       1.00000\n",
       "max       1.00000"
      ]
     },
     "execution_count": 7,
     "metadata": {},
     "output_type": "execute_result"
    }
   ],
   "source": [
    "df.describe()"
   ]
  },
  {
   "cell_type": "markdown",
   "metadata": {},
   "source": [
    "Nice balanced dataset with n=1000 observations."
   ]
  },
  {
   "cell_type": "code",
   "execution_count": 8,
   "metadata": {},
   "outputs": [
    {
     "data": {
      "text/plain": [
       "count    1000.000000\n",
       "mean       10.246000\n",
       "std         6.687616\n",
       "min         1.000000\n",
       "25%         5.000000\n",
       "50%         9.000000\n",
       "75%        15.000000\n",
       "max        30.000000\n",
       "Name: content, dtype: float64"
      ]
     },
     "execution_count": 8,
     "metadata": {},
     "output_type": "execute_result"
    }
   ],
   "source": [
    "df.content.str.split(' ').apply(len).describe()"
   ]
  },
  {
   "cell_type": "markdown",
   "metadata": {},
   "source": [
    "Longest sentence is ~30 words or tokens. Average is about 10. Shortest is 1."
   ]
  },
  {
   "cell_type": "code",
   "execution_count": 9,
   "metadata": {},
   "outputs": [
    {
     "data": {
      "text/html": [
       "<div>\n",
       "<style scoped>\n",
       "    .dataframe tbody tr th:only-of-type {\n",
       "        vertical-align: middle;\n",
       "    }\n",
       "\n",
       "    .dataframe tbody tr th {\n",
       "        vertical-align: top;\n",
       "    }\n",
       "\n",
       "    .dataframe thead th {\n",
       "        text-align: right;\n",
       "    }\n",
       "</style>\n",
       "<table border=\"1\" class=\"dataframe\">\n",
       "  <thead>\n",
       "    <tr style=\"text-align: right;\">\n",
       "      <th></th>\n",
       "      <th>content</th>\n",
       "      <th>label</th>\n",
       "    </tr>\n",
       "  </thead>\n",
       "  <tbody>\n",
       "    <tr>\n",
       "      <th>233</th>\n",
       "      <td>Disappointed!.</td>\n",
       "      <td>0</td>\n",
       "    </tr>\n",
       "    <tr>\n",
       "      <th>521</th>\n",
       "      <td>disappointing.</td>\n",
       "      <td>0</td>\n",
       "    </tr>\n",
       "    <tr>\n",
       "      <th>547</th>\n",
       "      <td>WORTHWHILE.</td>\n",
       "      <td>1</td>\n",
       "    </tr>\n",
       "    <tr>\n",
       "      <th>647</th>\n",
       "      <td>Excellent!.</td>\n",
       "      <td>1</td>\n",
       "    </tr>\n",
       "    <tr>\n",
       "      <th>763</th>\n",
       "      <td>disappointed.</td>\n",
       "      <td>0</td>\n",
       "    </tr>\n",
       "    <tr>\n",
       "      <th>955</th>\n",
       "      <td>Incredible!.</td>\n",
       "      <td>1</td>\n",
       "    </tr>\n",
       "  </tbody>\n",
       "</table>\n",
       "</div>"
      ],
      "text/plain": [
       "            content  label\n",
       "233  Disappointed!.      0\n",
       "521  disappointing.      0\n",
       "547     WORTHWHILE.      1\n",
       "647     Excellent!.      1\n",
       "763   disappointed.      0\n",
       "955    Incredible!.      1"
      ]
     },
     "execution_count": 9,
     "metadata": {},
     "output_type": "execute_result"
    }
   ],
   "source": [
    "df[df.content.str.split(' ').apply(len) == 1]"
   ]
  },
  {
   "cell_type": "markdown",
   "metadata": {},
   "source": [
    "Looking at those was worthwhile."
   ]
  },
  {
   "cell_type": "markdown",
   "metadata": {},
   "source": [
    "## Preprocessing\n",
    "\n",
    "- lowercase\n",
    "- replace punctuation, digits, special characters with a single space\n",
    "- also `_` is supposed to be retained but it never appears."
   ]
  },
  {
   "cell_type": "code",
   "execution_count": 10,
   "metadata": {},
   "outputs": [
    {
     "data": {
      "text/plain": [
       "False"
      ]
     },
     "execution_count": 10,
     "metadata": {},
     "output_type": "execute_result"
    }
   ],
   "source": [
    "df.content.str.contains('_').any()"
   ]
  },
  {
   "cell_type": "code",
   "execution_count": 11,
   "metadata": {},
   "outputs": [],
   "source": [
    "def preproc_simple(s):\n",
    "    s = s.lower()\n",
    "    # replace non-word characters with single space\n",
    "    s = re.sub(r'\\W', ' ', s)\n",
    "    # replace digits with single space\n",
    "    s = re.sub(r'\\d', ' ', s)\n",
    "    # replace multiple whitespace with single space\n",
    "    return re.sub(r'\\s\\s+', ' ', s)\n",
    "\n",
    "df['preproc'] = df.content.apply(preproc_simple)\n",
    "          "
   ]
  },
  {
   "cell_type": "code",
   "execution_count": 12,
   "metadata": {},
   "outputs": [
    {
     "data": {
      "text/html": [
       "<div>\n",
       "<style scoped>\n",
       "    .dataframe tbody tr th:only-of-type {\n",
       "        vertical-align: middle;\n",
       "    }\n",
       "\n",
       "    .dataframe tbody tr th {\n",
       "        vertical-align: top;\n",
       "    }\n",
       "\n",
       "    .dataframe thead th {\n",
       "        text-align: right;\n",
       "    }\n",
       "</style>\n",
       "<table border=\"1\" class=\"dataframe\">\n",
       "  <thead>\n",
       "    <tr style=\"text-align: right;\">\n",
       "      <th></th>\n",
       "      <th>content</th>\n",
       "      <th>preproc</th>\n",
       "    </tr>\n",
       "  </thead>\n",
       "  <tbody>\n",
       "    <tr>\n",
       "      <th>0</th>\n",
       "      <td>The battery is completely useless to me.</td>\n",
       "      <td>the battery is completely useless to me</td>\n",
       "    </tr>\n",
       "    <tr>\n",
       "      <th>1</th>\n",
       "      <td>What a big waste of time.</td>\n",
       "      <td>what a big waste of time</td>\n",
       "    </tr>\n",
       "    <tr>\n",
       "      <th>2</th>\n",
       "      <td>Don't waste your $$$ on this one.</td>\n",
       "      <td>don t waste your on this one</td>\n",
       "    </tr>\n",
       "    <tr>\n",
       "      <th>3</th>\n",
       "      <td>Great sound and service.</td>\n",
       "      <td>great sound and service</td>\n",
       "    </tr>\n",
       "    <tr>\n",
       "      <th>4</th>\n",
       "      <td>Really pleased with this product so far.</td>\n",
       "      <td>really pleased with this product so far</td>\n",
       "    </tr>\n",
       "    <tr>\n",
       "      <th>...</th>\n",
       "      <td>...</td>\n",
       "      <td>...</td>\n",
       "    </tr>\n",
       "    <tr>\n",
       "      <th>995</th>\n",
       "      <td>These are certainly very comfortable and functionality is decent.</td>\n",
       "      <td>these are certainly very comfortable and functionality is decent</td>\n",
       "    </tr>\n",
       "    <tr>\n",
       "      <th>996</th>\n",
       "      <td>I usually don't like headbands but this one is very lightweight &amp; doesn't mess up my hair.</td>\n",
       "      <td>i usually don t like headbands but this one is very lightweight doesn t mess up my hair</td>\n",
       "    </tr>\n",
       "    <tr>\n",
       "      <th>997</th>\n",
       "      <td>I'm a bit disappointed.</td>\n",
       "      <td>i m a bit disappointed</td>\n",
       "    </tr>\n",
       "    <tr>\n",
       "      <th>998</th>\n",
       "      <td>I have had this phone for over a year now, and I will tell you, its not that great.</td>\n",
       "      <td>i have had this phone for over a year now and i will tell you its not that great</td>\n",
       "    </tr>\n",
       "    <tr>\n",
       "      <th>999</th>\n",
       "      <td>I ordered this for sony Ericsson W810i but I think it only worked once (thats when I first used it).</td>\n",
       "      <td>i ordered this for sony ericsson w i but i think it only worked once thats when i first used it</td>\n",
       "    </tr>\n",
       "  </tbody>\n",
       "</table>\n",
       "<p>1000 rows × 2 columns</p>\n",
       "</div>"
      ],
      "text/plain": [
       "                                                                                                  content  \\\n",
       "0    The battery is completely useless to me.                                                               \n",
       "1    What a big waste of time.                                                                              \n",
       "2    Don't waste your $$$ on this one.                                                                      \n",
       "3    Great sound and service.                                                                               \n",
       "4    Really pleased with this product so far.                                                               \n",
       "..                                        ...                                                               \n",
       "995  These are certainly very comfortable and functionality is decent.                                      \n",
       "996  I usually don't like headbands but this one is very lightweight & doesn't mess up my hair.             \n",
       "997  I'm a bit disappointed.                                                                                \n",
       "998  I have had this phone for over a year now, and I will tell you, its not that great.                    \n",
       "999  I ordered this for sony Ericsson W810i but I think it only worked once (thats when I first used it).   \n",
       "\n",
       "                                                                                              preproc  \n",
       "0    the battery is completely useless to me                                                           \n",
       "1    what a big waste of time                                                                          \n",
       "2    don t waste your on this one                                                                      \n",
       "3    great sound and service                                                                           \n",
       "4    really pleased with this product so far                                                           \n",
       "..                                        ...                                                          \n",
       "995  these are certainly very comfortable and functionality is decent                                  \n",
       "996  i usually don t like headbands but this one is very lightweight doesn t mess up my hair           \n",
       "997  i m a bit disappointed                                                                            \n",
       "998  i have had this phone for over a year now and i will tell you its not that great                  \n",
       "999  i ordered this for sony ericsson w i but i think it only worked once thats when i first used it   \n",
       "\n",
       "[1000 rows x 2 columns]"
      ]
     },
     "metadata": {},
     "output_type": "display_data"
    }
   ],
   "source": [
    "with pandas.option_context('display.max_colwidth', -1):\n",
    "    display(df[['content', 'preproc']])"
   ]
  },
  {
   "cell_type": "markdown",
   "metadata": {},
   "source": [
    "Possibly could just remove `'` without replacing it by a space. Examples like `I'm` and `don't`."
   ]
  },
  {
   "cell_type": "markdown",
   "metadata": {},
   "source": [
    "## Dataset dev-test split\n",
    "\n",
    "Choose 80 / 10 / 10"
   ]
  },
  {
   "cell_type": "code",
   "execution_count": 13,
   "metadata": {},
   "outputs": [
    {
     "data": {
      "text/plain": [
       "[800, 100, 100]"
      ]
     },
     "execution_count": 13,
     "metadata": {},
     "output_type": "execute_result"
    }
   ],
   "source": [
    "dev, test = sklearn.model_selection.train_test_split(df, test_size=0.1, random_state=892192, shuffle=True)\n",
    "dev_train, dev_val = sklearn.model_selection.train_test_split(dev, test_size=1/9, random_state=992052, shuffle=True)\n",
    "\n",
    "[len(x) for x in [dev_train, dev_val, test]]"
   ]
  },
  {
   "cell_type": "markdown",
   "metadata": {},
   "source": [
    "## ML Pipeline"
   ]
  },
  {
   "cell_type": "code",
   "execution_count": 14,
   "metadata": {},
   "outputs": [],
   "source": [
    "vectorizer = sklearn.feature_extraction.text.CountVectorizer()\n",
    "# document term matrix for training\n",
    "X_dtm = vectorizer.fit_transform(dev_train.preproc.to_list()).toarray()"
   ]
  },
  {
   "cell_type": "code",
   "execution_count": 15,
   "metadata": {},
   "outputs": [
    {
     "data": {
      "text/html": [
       "<div>\n",
       "<style scoped>\n",
       "    .dataframe tbody tr th:only-of-type {\n",
       "        vertical-align: middle;\n",
       "    }\n",
       "\n",
       "    .dataframe tbody tr th {\n",
       "        vertical-align: top;\n",
       "    }\n",
       "\n",
       "    .dataframe thead th {\n",
       "        text-align: right;\n",
       "    }\n",
       "</style>\n",
       "<table border=\"1\" class=\"dataframe\">\n",
       "  <thead>\n",
       "    <tr style=\"text-align: right;\">\n",
       "      <th></th>\n",
       "      <th>abhor</th>\n",
       "      <th>ability</th>\n",
       "      <th>able</th>\n",
       "      <th>abound</th>\n",
       "      <th>about</th>\n",
       "      <th>above</th>\n",
       "      <th>absolutely</th>\n",
       "      <th>ac</th>\n",
       "      <th>accept</th>\n",
       "      <th>acceptable</th>\n",
       "      <th>...</th>\n",
       "      <th>wrong</th>\n",
       "      <th>wrongly</th>\n",
       "      <th>year</th>\n",
       "      <th>years</th>\n",
       "      <th>yell</th>\n",
       "      <th>yes</th>\n",
       "      <th>yet</th>\n",
       "      <th>you</th>\n",
       "      <th>your</th>\n",
       "      <th>zero</th>\n",
       "    </tr>\n",
       "  </thead>\n",
       "  <tbody>\n",
       "    <tr>\n",
       "      <th>0</th>\n",
       "      <td>0</td>\n",
       "      <td>0</td>\n",
       "      <td>0</td>\n",
       "      <td>0</td>\n",
       "      <td>0</td>\n",
       "      <td>0</td>\n",
       "      <td>0</td>\n",
       "      <td>0</td>\n",
       "      <td>0</td>\n",
       "      <td>0</td>\n",
       "      <td>...</td>\n",
       "      <td>0</td>\n",
       "      <td>0</td>\n",
       "      <td>0</td>\n",
       "      <td>0</td>\n",
       "      <td>0</td>\n",
       "      <td>0</td>\n",
       "      <td>0</td>\n",
       "      <td>0</td>\n",
       "      <td>0</td>\n",
       "      <td>0</td>\n",
       "    </tr>\n",
       "    <tr>\n",
       "      <th>1</th>\n",
       "      <td>0</td>\n",
       "      <td>0</td>\n",
       "      <td>0</td>\n",
       "      <td>0</td>\n",
       "      <td>0</td>\n",
       "      <td>0</td>\n",
       "      <td>0</td>\n",
       "      <td>0</td>\n",
       "      <td>0</td>\n",
       "      <td>0</td>\n",
       "      <td>...</td>\n",
       "      <td>0</td>\n",
       "      <td>0</td>\n",
       "      <td>0</td>\n",
       "      <td>0</td>\n",
       "      <td>0</td>\n",
       "      <td>0</td>\n",
       "      <td>0</td>\n",
       "      <td>0</td>\n",
       "      <td>0</td>\n",
       "      <td>0</td>\n",
       "    </tr>\n",
       "    <tr>\n",
       "      <th>2</th>\n",
       "      <td>0</td>\n",
       "      <td>0</td>\n",
       "      <td>0</td>\n",
       "      <td>0</td>\n",
       "      <td>0</td>\n",
       "      <td>0</td>\n",
       "      <td>0</td>\n",
       "      <td>0</td>\n",
       "      <td>0</td>\n",
       "      <td>0</td>\n",
       "      <td>...</td>\n",
       "      <td>0</td>\n",
       "      <td>0</td>\n",
       "      <td>0</td>\n",
       "      <td>0</td>\n",
       "      <td>0</td>\n",
       "      <td>0</td>\n",
       "      <td>0</td>\n",
       "      <td>0</td>\n",
       "      <td>0</td>\n",
       "      <td>0</td>\n",
       "    </tr>\n",
       "    <tr>\n",
       "      <th>3</th>\n",
       "      <td>0</td>\n",
       "      <td>0</td>\n",
       "      <td>0</td>\n",
       "      <td>0</td>\n",
       "      <td>0</td>\n",
       "      <td>0</td>\n",
       "      <td>0</td>\n",
       "      <td>0</td>\n",
       "      <td>0</td>\n",
       "      <td>0</td>\n",
       "      <td>...</td>\n",
       "      <td>0</td>\n",
       "      <td>0</td>\n",
       "      <td>0</td>\n",
       "      <td>0</td>\n",
       "      <td>0</td>\n",
       "      <td>0</td>\n",
       "      <td>0</td>\n",
       "      <td>0</td>\n",
       "      <td>0</td>\n",
       "      <td>0</td>\n",
       "    </tr>\n",
       "    <tr>\n",
       "      <th>4</th>\n",
       "      <td>0</td>\n",
       "      <td>0</td>\n",
       "      <td>0</td>\n",
       "      <td>0</td>\n",
       "      <td>0</td>\n",
       "      <td>0</td>\n",
       "      <td>0</td>\n",
       "      <td>0</td>\n",
       "      <td>0</td>\n",
       "      <td>0</td>\n",
       "      <td>...</td>\n",
       "      <td>0</td>\n",
       "      <td>0</td>\n",
       "      <td>0</td>\n",
       "      <td>0</td>\n",
       "      <td>0</td>\n",
       "      <td>0</td>\n",
       "      <td>0</td>\n",
       "      <td>0</td>\n",
       "      <td>0</td>\n",
       "      <td>0</td>\n",
       "    </tr>\n",
       "    <tr>\n",
       "      <th>...</th>\n",
       "      <td>...</td>\n",
       "      <td>...</td>\n",
       "      <td>...</td>\n",
       "      <td>...</td>\n",
       "      <td>...</td>\n",
       "      <td>...</td>\n",
       "      <td>...</td>\n",
       "      <td>...</td>\n",
       "      <td>...</td>\n",
       "      <td>...</td>\n",
       "      <td>...</td>\n",
       "      <td>...</td>\n",
       "      <td>...</td>\n",
       "      <td>...</td>\n",
       "      <td>...</td>\n",
       "      <td>...</td>\n",
       "      <td>...</td>\n",
       "      <td>...</td>\n",
       "      <td>...</td>\n",
       "      <td>...</td>\n",
       "      <td>...</td>\n",
       "    </tr>\n",
       "    <tr>\n",
       "      <th>795</th>\n",
       "      <td>0</td>\n",
       "      <td>0</td>\n",
       "      <td>0</td>\n",
       "      <td>0</td>\n",
       "      <td>0</td>\n",
       "      <td>0</td>\n",
       "      <td>0</td>\n",
       "      <td>0</td>\n",
       "      <td>0</td>\n",
       "      <td>0</td>\n",
       "      <td>...</td>\n",
       "      <td>0</td>\n",
       "      <td>0</td>\n",
       "      <td>0</td>\n",
       "      <td>0</td>\n",
       "      <td>0</td>\n",
       "      <td>0</td>\n",
       "      <td>0</td>\n",
       "      <td>0</td>\n",
       "      <td>0</td>\n",
       "      <td>0</td>\n",
       "    </tr>\n",
       "    <tr>\n",
       "      <th>796</th>\n",
       "      <td>0</td>\n",
       "      <td>0</td>\n",
       "      <td>0</td>\n",
       "      <td>0</td>\n",
       "      <td>0</td>\n",
       "      <td>0</td>\n",
       "      <td>0</td>\n",
       "      <td>0</td>\n",
       "      <td>0</td>\n",
       "      <td>0</td>\n",
       "      <td>...</td>\n",
       "      <td>0</td>\n",
       "      <td>0</td>\n",
       "      <td>0</td>\n",
       "      <td>0</td>\n",
       "      <td>0</td>\n",
       "      <td>0</td>\n",
       "      <td>0</td>\n",
       "      <td>0</td>\n",
       "      <td>0</td>\n",
       "      <td>0</td>\n",
       "    </tr>\n",
       "    <tr>\n",
       "      <th>797</th>\n",
       "      <td>0</td>\n",
       "      <td>0</td>\n",
       "      <td>0</td>\n",
       "      <td>0</td>\n",
       "      <td>0</td>\n",
       "      <td>0</td>\n",
       "      <td>0</td>\n",
       "      <td>0</td>\n",
       "      <td>0</td>\n",
       "      <td>0</td>\n",
       "      <td>...</td>\n",
       "      <td>0</td>\n",
       "      <td>0</td>\n",
       "      <td>0</td>\n",
       "      <td>0</td>\n",
       "      <td>0</td>\n",
       "      <td>0</td>\n",
       "      <td>0</td>\n",
       "      <td>0</td>\n",
       "      <td>0</td>\n",
       "      <td>0</td>\n",
       "    </tr>\n",
       "    <tr>\n",
       "      <th>798</th>\n",
       "      <td>0</td>\n",
       "      <td>0</td>\n",
       "      <td>0</td>\n",
       "      <td>0</td>\n",
       "      <td>0</td>\n",
       "      <td>0</td>\n",
       "      <td>0</td>\n",
       "      <td>0</td>\n",
       "      <td>0</td>\n",
       "      <td>0</td>\n",
       "      <td>...</td>\n",
       "      <td>0</td>\n",
       "      <td>0</td>\n",
       "      <td>0</td>\n",
       "      <td>0</td>\n",
       "      <td>0</td>\n",
       "      <td>0</td>\n",
       "      <td>0</td>\n",
       "      <td>0</td>\n",
       "      <td>0</td>\n",
       "      <td>0</td>\n",
       "    </tr>\n",
       "    <tr>\n",
       "      <th>799</th>\n",
       "      <td>0</td>\n",
       "      <td>0</td>\n",
       "      <td>0</td>\n",
       "      <td>0</td>\n",
       "      <td>0</td>\n",
       "      <td>0</td>\n",
       "      <td>0</td>\n",
       "      <td>0</td>\n",
       "      <td>0</td>\n",
       "      <td>0</td>\n",
       "      <td>...</td>\n",
       "      <td>0</td>\n",
       "      <td>0</td>\n",
       "      <td>0</td>\n",
       "      <td>0</td>\n",
       "      <td>0</td>\n",
       "      <td>0</td>\n",
       "      <td>0</td>\n",
       "      <td>0</td>\n",
       "      <td>0</td>\n",
       "      <td>0</td>\n",
       "    </tr>\n",
       "  </tbody>\n",
       "</table>\n",
       "<p>800 rows × 1600 columns</p>\n",
       "</div>"
      ],
      "text/plain": [
       "     abhor  ability  able  abound  about  above  absolutely  ac  accept  \\\n",
       "0        0        0     0       0      0      0           0   0       0   \n",
       "1        0        0     0       0      0      0           0   0       0   \n",
       "2        0        0     0       0      0      0           0   0       0   \n",
       "3        0        0     0       0      0      0           0   0       0   \n",
       "4        0        0     0       0      0      0           0   0       0   \n",
       "..     ...      ...   ...     ...    ...    ...         ...  ..     ...   \n",
       "795      0        0     0       0      0      0           0   0       0   \n",
       "796      0        0     0       0      0      0           0   0       0   \n",
       "797      0        0     0       0      0      0           0   0       0   \n",
       "798      0        0     0       0      0      0           0   0       0   \n",
       "799      0        0     0       0      0      0           0   0       0   \n",
       "\n",
       "     acceptable  ...  wrong  wrongly  year  years  yell  yes  yet  you  your  \\\n",
       "0             0  ...      0        0     0      0     0    0    0    0     0   \n",
       "1             0  ...      0        0     0      0     0    0    0    0     0   \n",
       "2             0  ...      0        0     0      0     0    0    0    0     0   \n",
       "3             0  ...      0        0     0      0     0    0    0    0     0   \n",
       "4             0  ...      0        0     0      0     0    0    0    0     0   \n",
       "..          ...  ...    ...      ...   ...    ...   ...  ...  ...  ...   ...   \n",
       "795           0  ...      0        0     0      0     0    0    0    0     0   \n",
       "796           0  ...      0        0     0      0     0    0    0    0     0   \n",
       "797           0  ...      0        0     0      0     0    0    0    0     0   \n",
       "798           0  ...      0        0     0      0     0    0    0    0     0   \n",
       "799           0  ...      0        0     0      0     0    0    0    0     0   \n",
       "\n",
       "     zero  \n",
       "0       0  \n",
       "1       0  \n",
       "2       0  \n",
       "3       0  \n",
       "4       0  \n",
       "..    ...  \n",
       "795     0  \n",
       "796     0  \n",
       "797     0  \n",
       "798     0  \n",
       "799     0  \n",
       "\n",
       "[800 rows x 1600 columns]"
      ]
     },
     "execution_count": 15,
     "metadata": {},
     "output_type": "execute_result"
    }
   ],
   "source": [
    "pandas.DataFrame(X_dtm, columns = vectorizer.get_feature_names())"
   ]
  },
  {
   "cell_type": "code",
   "execution_count": 16,
   "metadata": {},
   "outputs": [],
   "source": [
    "# Feature selection using chi squared of each example \n",
    "kb = sklearn.feature_selection.SelectKBest(score_func=sklearn.feature_selection.chi2,\n",
    "                                           k=100) \\\n",
    "            .fit(X_dtm, dev_train.label.values)\n",
    "X_kb = kb.transform(X_dtm)"
   ]
  },
  {
   "cell_type": "code",
   "execution_count": 17,
   "metadata": {},
   "outputs": [
    {
     "data": {
      "text/plain": [
       "(800, 100)"
      ]
     },
     "execution_count": 17,
     "metadata": {},
     "output_type": "execute_result"
    }
   ],
   "source": [
    "X_kb.shape"
   ]
  },
  {
   "cell_type": "code",
   "execution_count": 18,
   "metadata": {},
   "outputs": [
    {
     "data": {
      "text/plain": [
       "array([ 4.44550244, 12.82610229, 10.0481191 ,  4.08080808,  3.92079208,\n",
       "        3.67249582,  9.18181818,  5.17505084, 14.87391371,  3.8419842 ,\n",
       "        4.08080808,  4.62126213,  5.49508284,  4.38123812,  3.92079208,\n",
       "        3.92079208,  6.05220522,  3.92079208,  3.67249582,  4.7333019 ,\n",
       "        5.1010101 ,  5.58590303,  3.92079208,  5.1010101 ,  5.1010101 ,\n",
       "        6.12121212,  5.1010101 ,  4.08080808,  5.75793135,  7.34499164,\n",
       "        8.44991166,  6.05220522, 17.78579676,  6.24162416,  3.92079208,\n",
       "        7.18545491,  7.34499164,  7.18545491,  3.92079208,  3.92079208,\n",
       "       24.16294252, 61.43445627,  5.17505084,  8.03683702,  3.72137214,\n",
       "        6.86138614,  6.12121212,  3.67249582,  3.67249582, 10.08591729,\n",
       "        5.30587503,  6.12121212,  3.92079208,  3.92079208, 12.74257426,\n",
       "        4.08080808, 12.53285329, 18.62376238, 53.54241382,  5.58590303,\n",
       "        4.08080808,  8.3105501 ,  3.71772733,  4.9009901 ,  3.92079208,\n",
       "        3.72137214,  4.08080808,  3.92079208,  3.72137214, 15.3030303 ,\n",
       "       19.73103977,  3.92079208,  3.86643786,  4.9009901 ,  7.09083517,\n",
       "        5.1010101 ,  3.72137214,  3.92079208,  3.92079208,  3.92079208,\n",
       "        5.1010101 ,  4.9009901 ,  6.12121212, 10.2020202 ,  5.04367393,\n",
       "        6.4127105 ,  4.62126213,  6.12121212,  4.08080808,  5.1010101 ,\n",
       "        5.7629763 , 10.12369808,  3.67249582, 11.22222222,  4.38123812,\n",
       "        4.08080808, 16.85019931,  3.91092186,  3.91092186,  5.88118812,\n",
       "        4.36950362, 29.48399546, 11.22222222,  4.89751832])"
      ]
     },
     "execution_count": 18,
     "metadata": {},
     "output_type": "execute_result"
    }
   ],
   "source": [
    "# chi square scores for selected features, selector takes highest 100 scores \n",
    "#. (not sure how it resolves ties!)\n",
    "kb.scores_[kb.scores_ >= sorted(kb.scores_)[-100]]"
   ]
  },
  {
   "cell_type": "code",
   "execution_count": 19,
   "metadata": {},
   "outputs": [
    {
     "data": {
      "text/plain": [
       "LogisticRegression(C=1.0, class_weight=None, dual=False, fit_intercept=True,\n",
       "                   intercept_scaling=1, l1_ratio=None, max_iter=100,\n",
       "                   multi_class='auto', n_jobs=None, penalty='l2',\n",
       "                   random_state=None, solver='lbfgs', tol=0.0001, verbose=0,\n",
       "                   warm_start=False)"
      ]
     },
     "execution_count": 19,
     "metadata": {},
     "output_type": "execute_result"
    }
   ],
   "source": [
    "model = sklearn.linear_model.LogisticRegression()\n",
    "model.fit(X_kb, dev_train.label.values)"
   ]
  },
  {
   "cell_type": "code",
   "execution_count": 20,
   "metadata": {},
   "outputs": [
    {
     "data": {
      "text/plain": [
       "<sklearn.metrics._plot.roc_curve.RocCurveDisplay at 0x7f04de31e690>"
      ]
     },
     "execution_count": 20,
     "metadata": {},
     "output_type": "execute_result"
    },
    {
     "data": {
      "image/png": "[encoded data removed]",
      "text/plain": [
       "<Figure size 432x288 with 1 Axes>"
      ]
     },
     "metadata": {
      "needs_background": "light"
     },
     "output_type": "display_data"
    }
   ],
   "source": [
    "sklearn.metrics.plot_roc_curve(model, X_kb, dev_train.label)"
   ]
  },
  {
   "cell_type": "code",
   "execution_count": 21,
   "metadata": {},
   "outputs": [
    {
     "name": "stderr",
     "output_type": "stream",
     "text": [
      "/opt/conda/envs/earthai/lib/python3.7/site-packages/ipykernel_launcher.py:1: SettingWithCopyWarning: \n",
      "A value is trying to be set on a copy of a slice from a DataFrame.\n",
      "Try using .loc[row_indexer,col_indexer] = value instead\n",
      "\n",
      "See the caveats in the documentation: http://pandas.pydata.org/pandas-docs/stable/user_guide/indexing.html#returning-a-view-versus-a-copy\n",
      "  \"\"\"Entry point for launching an IPython kernel.\n"
     ]
    },
    {
     "data": {
      "text/html": [
       "<div>\n",
       "<style scoped>\n",
       "    .dataframe tbody tr th:only-of-type {\n",
       "        vertical-align: middle;\n",
       "    }\n",
       "\n",
       "    .dataframe tbody tr th {\n",
       "        vertical-align: top;\n",
       "    }\n",
       "\n",
       "    .dataframe thead th {\n",
       "        text-align: right;\n",
       "    }\n",
       "</style>\n",
       "<table border=\"1\" class=\"dataframe\">\n",
       "  <thead>\n",
       "    <tr style=\"text-align: right;\">\n",
       "      <th></th>\n",
       "      <th>content</th>\n",
       "      <th>label</th>\n",
       "      <th>predict</th>\n",
       "    </tr>\n",
       "  </thead>\n",
       "  <tbody>\n",
       "    <tr>\n",
       "      <th>643</th>\n",
       "      <td>My sister has one also and she loves it.</td>\n",
       "      <td>1</td>\n",
       "      <td>0.580034</td>\n",
       "    </tr>\n",
       "    <tr>\n",
       "      <th>28</th>\n",
       "      <td>Excellent hands free tool.</td>\n",
       "      <td>1</td>\n",
       "      <td>0.865250</td>\n",
       "    </tr>\n",
       "    <tr>\n",
       "      <th>984</th>\n",
       "      <td>fast service.</td>\n",
       "      <td>1</td>\n",
       "      <td>0.550081</td>\n",
       "    </tr>\n",
       "    <tr>\n",
       "      <th>537</th>\n",
       "      <td>I really wanted the Plantronics 510 to be the ...</td>\n",
       "      <td>0</td>\n",
       "      <td>0.819934</td>\n",
       "    </tr>\n",
       "    <tr>\n",
       "      <th>482</th>\n",
       "      <td>Poor quality.</td>\n",
       "      <td>0</td>\n",
       "      <td>0.133862</td>\n",
       "    </tr>\n",
       "    <tr>\n",
       "      <th>...</th>\n",
       "      <td>...</td>\n",
       "      <td>...</td>\n",
       "      <td>...</td>\n",
       "    </tr>\n",
       "    <tr>\n",
       "      <th>969</th>\n",
       "      <td>useless phone, simply deaf.</td>\n",
       "      <td>0</td>\n",
       "      <td>0.243341</td>\n",
       "    </tr>\n",
       "    <tr>\n",
       "      <th>111</th>\n",
       "      <td>Was not happy.</td>\n",
       "      <td>0</td>\n",
       "      <td>0.230157</td>\n",
       "    </tr>\n",
       "    <tr>\n",
       "      <th>6</th>\n",
       "      <td>best bluetooth on the market.</td>\n",
       "      <td>1</td>\n",
       "      <td>0.808814</td>\n",
       "    </tr>\n",
       "    <tr>\n",
       "      <th>559</th>\n",
       "      <td>I can't use this case because the smell is dis...</td>\n",
       "      <td>0</td>\n",
       "      <td>0.396105</td>\n",
       "    </tr>\n",
       "    <tr>\n",
       "      <th>772</th>\n",
       "      <td>Great for the jawbone.</td>\n",
       "      <td>1</td>\n",
       "      <td>0.888698</td>\n",
       "    </tr>\n",
       "  </tbody>\n",
       "</table>\n",
       "<p>800 rows × 3 columns</p>\n",
       "</div>"
      ],
      "text/plain": [
       "                                               content  label   predict\n",
       "643           My sister has one also and she loves it.      1  0.580034\n",
       "28                          Excellent hands free tool.      1  0.865250\n",
       "984                                      fast service.      1  0.550081\n",
       "537  I really wanted the Plantronics 510 to be the ...      0  0.819934\n",
       "482                                      Poor quality.      0  0.133862\n",
       "..                                                 ...    ...       ...\n",
       "969                        useless phone, simply deaf.      0  0.243341\n",
       "111                                     Was not happy.      0  0.230157\n",
       "6                        best bluetooth on the market.      1  0.808814\n",
       "559  I can't use this case because the smell is dis...      0  0.396105\n",
       "772                             Great for the jawbone.      1  0.888698\n",
       "\n",
       "[800 rows x 3 columns]"
      ]
     },
     "execution_count": 21,
     "metadata": {},
     "output_type": "execute_result"
    }
   ],
   "source": [
    "dev_train['predict'] = model.predict_proba(X_kb)[:, 1]\n",
    "dev_train[['content', 'label', 'predict']]"
   ]
  },
  {
   "cell_type": "code",
   "execution_count": null,
   "metadata": {},
   "outputs": [],
   "source": []
  }
 ],
 "metadata": {
  "kernelspec": {
   "language": "python",
   "name": "python3"
  },
  "language_info": {
   "codemirror_mode": {
    "name": "ipython",
    "version": 3
   },
   "file_extension": ".py",
   "mimetype": "text/x-python",
   "name": "python",
   "nbconvert_exporter": "python",
   "pygments_lexer": "ipython3",
   "version": "3.7.7"
  }
 },
 "nbformat": 4,
 "nbformat_minor": 4
}
